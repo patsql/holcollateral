{
  "cells": [
    {
      "cell_type": "markdown",
      "source": [
        "# Stock NLP exercise (Using Spark dataframe to read, Pandas dataframe to work):\r\n",
        "We will use the news data and try to predict its effect on the Dow Jones Industrial Average (Market Index)"
      ],
      "metadata": {
        "nteract": {
          "transient": {
            "deleting": false
          }
        }
      }
    },
    {
      "cell_type": "markdown",
      "source": [
        "### Getting the data\r\n",
        "\r\n",
        "We will work with a pre-prepared dataset in parquet format.\r\n",
        "Place the folder ``DatasetStockNews`` to your data lake storage (associated/linked to Synapse) and configure the path accordingly using ``data_lake_account_name`` and ``file_system_name`` below. \r\n",
        "\r\n",
        "### Getting ``NLTK`` data\r\n",
        "We will be using ```NLTK`` for our feature engineering step. For Enterprise security reasons, Synapse does not allow arbitrary shell scripts to run (which is what nltk data download helpers run in background). \r\n",
        "Download the required ``NLTK`` data from a secure environment and place it in a storage layer accesible from Synapse. \r\n",
        "We have already downloaded the ``NLTK`` data you need for this exercise, place it in following folder: ``abfss://<file_system>@<account_name>.dfs.core.windows.net/synapse/workspaces/<workspace_name>/nltk_data/``\r\n",
        "\r\n",
        "### Configure attributes\r\n",
        "\r\n",
        "Configure the following attributes as per your environment\r\n",
        "\r\n",
        "- ``data_lake_account_name``: Your data lake storage account name\r\n",
        "- ``file_system_name``: The blob container name within your storage account, containing the `DatasetStockNews`\r\n",
        "- ``workspace_name``: The workspace name for your Synapse environment. This is used to build the ``nltk_data`` folder path (see above section)\r\n",
        "- ``subscription_id``: Azure subscription ID\r\n",
        "- ``resource_group``: the resource group name\r\n",
        "- ``workspace_name``: Workspace name for the associated Azure Machine Learning workspace\r\n",
        "- ``workspace_region``: Azure region string for the associated Azure Machine Learning workspace\r\n",
        "- ``cog_service_subscription_key``: The API key to call cognitive services. If you do not have one already, for the purpose of this exercise, [please create one](https://docs.microsoft.com/en-us/azure/cognitive-services/cognitive-services-apis-create-account?tabs=multiservice%2Cwindows)\r\n",
        "- ``cog_service_location``: The azure location string for the cognitive service resource (e.g: eastus)"
      ],
      "metadata": {
        "nteract": {
          "transient": {
            "deleting": false
          }
        }
      }
    },
    {
      "cell_type": "code",
      "source": [
        "import numpy as np\r\n",
        "import pandas as pd\r\n",
        "from pyspark.sql.types import *\r\n",
        "import nltk\r\n",
        "from nltk.corpus import stopwords\r\n",
        "from nltk.stem import WordNetLemmatizer\r\n",
        "from pyspark import SparkFiles\r\n",
        "\r\n",
        "from sklearn.feature_extraction.text import CountVectorizer\r\n",
        "from sklearn.ensemble import RandomForestClassifier\r\n",
        "\r\n",
        "\r\n",
        "data_lake_account_name = \"hlthmlqhke6c66zwp74\"\r\n",
        "file_system_name = \"raw\"\r\n",
        "synapse_workspace_name = \"synapse-ws-hlthml\"\r\n",
        "\r\n",
        "subscription_id = \"\" \r\n",
        "resource_group = \"healthml-rs-rg\" \r\n",
        "workspace_name = \"ml-hlthml\" \r\n",
        "workspace_region = \"eastus\"\r\n",
        "\r\n",
        "#add stopwords from storage\r\n",
        "sc.addFile(f\"abfss://{file_system_name}@{data_lake_account_name}.dfs.core.windows.net/synapse/workspaces/{synapse_workspace_name}/nltk_data/\",True)\r\n",
        "#append path to NLTK\r\n",
        "nltk.data.path.append(SparkFiles.getRootDirectory() + '/nltk_data')"
      ],
      "outputs": [
        {
          "output_type": "display_data",
          "data": {
            "application/vnd.livy.statement-meta+json": {
              "spark_pool": "smallspark01",
              "session_id": 45,
              "statement_id": 3,
              "state": "finished",
              "livy_statement_state": "available",
              "queued_time": "2022-02-16T14:08:55.3563481Z",
              "session_start_time": null,
              "execution_start_time": "2022-02-16T14:08:55.5273023Z",
              "execution_finish_time": "2022-02-16T14:09:00.7755643Z"
            },
            "text/plain": "StatementMeta(smallspark01, 45, 3, Finished, Available)"
          },
          "metadata": {}
        }
      ],
      "execution_count": 3,
      "metadata": {
        "jupyter": {
          "source_hidden": false,
          "outputs_hidden": false
        },
        "nteract": {
          "transient": {
            "deleting": false
          }
        }
      }
    },
    {
      "cell_type": "markdown",
      "source": [
        "# Dataset Description:\r\n",
        "\r\n",
        "There are two channels of data provided in this dataset:\r\n",
        "\r\n",
        "- News data: Crawled historical news headlines from Reddit WorldNews Channel (/r/worldnews). They are ranked by reddit users' votes, and only the top 25 headlines are considered for a single date.\r\n",
        "(Range: 2008-06-08 to 2016-07-01)\r\n",
        "\r\n",
        "- Stock data: Dow Jones Industrial Average (DJIA) is used to \"prove the concept\".\r\n",
        "(Range: 2008-08-08 to 2016-07-01)\r\n",
        "\r\n",
        "There are three data files in .csv format:\r\n",
        "\r\n",
        "- RedditNews.csv: two columns\r\n",
        "The first column is the \"date\", and second column is the \"news headlines\".\r\n",
        "All news are ranked from top to bottom based on how hot they are.\r\n",
        "Hence, there are 25 lines for each date.\r\n",
        "\r\n",
        "- DJIA_table.csv:\r\n",
        "Downloaded directly from Yahoo Finance: check out the web page for more info.\r\n",
        "\r\n",
        "- CombinedNewsDJIA.csv:\r\n",
        "Combined dataset with 27 columns.\r\n",
        "The first column is \"Date\", the second is \"Label\", and the following ones are news headlines ranging from \"Top1\" to \"Top25\".\r\n",
        "\r\n",
        "- Combined_news_djia.parquet: combined dataset with 27 columns.\r\n",
        "The first column is \"Date\", the second is \"Label\", and the following ones are news headlines ranging from \"Top1\" to \"Top25\". **We will be using this one for the excercise.**\r\n",
        "\r\n",
        "Dataset citation, Kaggle source: https://www.kaggle.com/aaron7sun/stocknews "
      ],
      "metadata": {
        "nteract": {
          "transient": {
            "deleting": false
          }
        }
      }
    },
    {
      "cell_type": "markdown",
      "source": [
        "### Read dataset into a dataframe:"
      ],
      "metadata": {
        "nteract": {
          "transient": {
            "deleting": false
          }
        }
      }
    },
    {
      "cell_type": "code",
      "source": [
        "import pandas as pd\r\n",
        "\r\n",
        "df_stocknews = pd.read_parquet(\"abfss://{file_system_name}@{data_lake_account_name}.dfs.core.windows.net/DatasetStockNews/Combined_news_djia.parquet\".format(file_system_name=file_system_name, data_lake_account_name=data_lake_account_name))\r\n",
        "df_stocknews"
      ],
      "outputs": [
        {
          "output_type": "display_data",
          "data": {
            "application/vnd.livy.statement-meta+json": {
              "spark_pool": "smallspark01",
              "session_id": 45,
              "statement_id": 12,
              "state": "finished",
              "livy_statement_state": "available",
              "queued_time": "2022-02-16T14:34:51.6549119Z",
              "session_start_time": null,
              "execution_start_time": "2022-02-16T14:34:51.7824002Z",
              "execution_finish_time": "2022-02-16T14:34:58.6730348Z"
            },
            "text/plain": "StatementMeta(smallspark01, 45, 12, Finished, Available)"
          },
          "metadata": {}
        },
        {
          "output_type": "display_data",
          "data": {
            "text/plain": "            Date  ...                                              Top25\n0     2008-08-08  ...           b\"No Help for Mexico's Kidnapping Surge\"\n1     2008-08-11  ...  b\"So this is what it's come to: trading sex fo...\n2     2008-08-12  ...  b\"BBC NEWS | Asia-Pacific | Extinction 'by man...\n3     2008-08-13  ...  b'2006: Nobel laureate Aleksander Solzhenitsyn...\n4     2008-08-14  ...  b'Philippines : Peace Advocate say Muslims nee...\n...          ...  ...                                                ...\n1984  2016-06-27  ...  Pakistani clerics declare transgender marriage...\n1985  2016-06-28  ...  Mexico's security forces routinely use 'sexual...\n1986  2016-06-29  ...  Tiny New Zealand town with 'too many jobs' lau...\n1987  2016-06-30  ...  Law Enforcement Sources: Gun Used in Paris Ter...\n1988  2016-07-01  ...  Ozone layer hole seems to be healing - US &amp...\n\n[1989 rows x 27 columns]",
            "text/html": "<div>\n<style scoped>\n    .dataframe tbody tr th:only-of-type {\n        vertical-align: middle;\n    }\n\n    .dataframe tbody tr th {\n        vertical-align: top;\n    }\n\n    .dataframe thead th {\n        text-align: right;\n    }\n</style>\n<table border=\"1\" class=\"dataframe\">\n  <thead>\n    <tr style=\"text-align: right;\">\n      <th></th>\n      <th>Date</th>\n      <th>Label</th>\n      <th>Top1</th>\n      <th>Top2</th>\n      <th>Top3</th>\n      <th>Top4</th>\n      <th>Top5</th>\n      <th>Top6</th>\n      <th>Top7</th>\n      <th>Top8</th>\n      <th>Top9</th>\n      <th>Top10</th>\n      <th>Top11</th>\n      <th>Top12</th>\n      <th>Top13</th>\n      <th>Top14</th>\n      <th>Top15</th>\n      <th>Top16</th>\n      <th>Top17</th>\n      <th>Top18</th>\n      <th>Top19</th>\n      <th>Top20</th>\n      <th>Top21</th>\n      <th>Top22</th>\n      <th>Top23</th>\n      <th>Top24</th>\n      <th>Top25</th>\n    </tr>\n  </thead>\n  <tbody>\n    <tr>\n      <th>0</th>\n      <td>2008-08-08</td>\n      <td>0</td>\n      <td>b\"Georgia 'downs two Russian warplanes' as cou...</td>\n      <td>b'BREAKING: Musharraf to be impeached.'</td>\n      <td>b'Russia Today: Columns of troops roll into So...</td>\n      <td>b'Russian tanks are moving towards the capital...</td>\n      <td>b\"Afghan children raped with 'impunity,' U.N. ...</td>\n      <td>b'150 Russian tanks have entered South Ossetia...</td>\n      <td>b\"Breaking: Georgia invades South Ossetia, Rus...</td>\n      <td>b\"The 'enemy combatent' trials are nothing but...</td>\n      <td>b'Georgian troops retreat from S. Osettain cap...</td>\n      <td>b'Did the U.S. Prep Georgia for War with Russia?'</td>\n      <td>b'Rice Gives Green Light for Israel to Attack ...</td>\n      <td>b'Announcing:Class Action Lawsuit on Behalf of...</td>\n      <td>b\"So---Russia and Georgia are at war and the N...</td>\n      <td>b\"China tells Bush to stay out of other countr...</td>\n      <td>b'Did World War III start today?'</td>\n      <td>b'Georgia Invades South Ossetia - if Russia ge...</td>\n      <td>b'Al-Qaeda Faces Islamist Backlash'</td>\n      <td>b'Condoleezza Rice: \"The US would not act to p...</td>\n      <td>b'This is a busy day:  The European Union has ...</td>\n      <td>b\"Georgia will withdraw 1,000 soldiers from Ir...</td>\n      <td>b'Why the Pentagon Thinks Attacking Iran is a ...</td>\n      <td>b'Caucasus in crisis: Georgia invades South Os...</td>\n      <td>b'Indian shoe manufactory  - And again in a se...</td>\n      <td>b'Visitors Suffering from Mental Illnesses Ban...</td>\n      <td>b\"No Help for Mexico's Kidnapping Surge\"</td>\n    </tr>\n    <tr>\n      <th>1</th>\n      <td>2008-08-11</td>\n      <td>1</td>\n      <td>b'Why wont America and Nato help us? If they w...</td>\n      <td>b'Bush puts foot down on Georgian conflict'</td>\n      <td>b\"Jewish Georgian minister: Thanks to Israeli ...</td>\n      <td>b'Georgian army flees in disarray as Russians ...</td>\n      <td>b\"Olympic opening ceremony fireworks 'faked'\"</td>\n      <td>b'What were the Mossad with fraudulent New Zea...</td>\n      <td>b'Russia angered by Israeli military sale to G...</td>\n      <td>b'An American citizen living in S.Ossetia blam...</td>\n      <td>b'Welcome To World War IV! Now In High Definit...</td>\n      <td>b\"Georgia's move, a mistake of monumental prop...</td>\n      <td>b'Russia presses deeper into Georgia; U.S. say...</td>\n      <td>b'Abhinav Bindra wins first ever Individual Ol...</td>\n      <td>b' U.S. ship heads for Arctic to define territ...</td>\n      <td>b'Drivers in a Jerusalem taxi station threaten...</td>\n      <td>b'The French Team is Stunned by Phelps and the...</td>\n      <td>b'Israel and the US behind the Georgian aggres...</td>\n      <td>b'\"Do not believe TV, neither Russian nor Geor...</td>\n      <td>b'Riots are still going on in Montreal (Canada...</td>\n      <td>b'China to overtake US as largest manufacturer'</td>\n      <td>b'War in South Ossetia [PICS]'</td>\n      <td>b'Israeli Physicians Group Condemns State Tort...</td>\n      <td>b' Russia has just beaten the United States ov...</td>\n      <td>b'Perhaps *the* question about the Georgia - R...</td>\n      <td>b'Russia is so much better at war'</td>\n      <td>b\"So this is what it's come to: trading sex fo...</td>\n    </tr>\n    <tr>\n      <th>2</th>\n      <td>2008-08-12</td>\n      <td>0</td>\n      <td>b'Remember that adorable 9-year-old who sang a...</td>\n      <td>b\"Russia 'ends Georgia operation'\"</td>\n      <td>b'\"If we had no sexual harassment we would hav...</td>\n      <td>b\"Al-Qa'eda is losing support in Iraq because ...</td>\n      <td>b'Ceasefire in Georgia: Putin Outmaneuvers the...</td>\n      <td>b'Why Microsoft and Intel tried to kill the XO...</td>\n      <td>b'Stratfor: The Russo-Georgian War and the Bal...</td>\n      <td>b\"I'm Trying to Get a Sense of This Whole Geor...</td>\n      <td>b\"The US military was surprised by the timing ...</td>\n      <td>b'U.S. Beats War Drum as Iran Dumps the Dollar'</td>\n      <td>b'Gorbachev: \"Georgian military attacked the S...</td>\n      <td>b'CNN use footage of Tskhinvali ruins to cover...</td>\n      <td>b'Beginning a war as the Olympics were opening...</td>\n      <td>b'55 pyramids as large as the Luxor stacked in...</td>\n      <td>b'The 11 Top Party Cities in the World'</td>\n      <td>b'U.S. troops still in Georgia (did you know t...</td>\n      <td>b'Why Russias response to Georgia was right'</td>\n      <td>b'Gorbachev accuses U.S. of making a \"serious ...</td>\n      <td>b'Russia, Georgia, and NATO: Cold War Two'</td>\n      <td>b'Remember that adorable 62-year-old who led y...</td>\n      <td>b'War in Georgia: The Israeli connection'</td>\n      <td>b'All signs point to the US encouraging Georgi...</td>\n      <td>b'Christopher King argues that the US and NATO...</td>\n      <td>b'America: The New Mexico?'</td>\n      <td>b\"BBC NEWS | Asia-Pacific | Extinction 'by man...</td>\n    </tr>\n    <tr>\n      <th>3</th>\n      <td>2008-08-13</td>\n      <td>0</td>\n      <td>b' U.S. refuses Israel weapons to attack Iran:...</td>\n      <td>b\"When the president ordered to attack Tskhinv...</td>\n      <td>b' Israel clears troops who killed Reuters cam...</td>\n      <td>b'Britain\\'s policy of being tough on drugs is...</td>\n      <td>b'Body of 14 year old found in trunk; Latest (...</td>\n      <td>b'China has moved 10 *million* quake survivors...</td>\n      <td>b\"Bush announces Operation Get All Up In Russi...</td>\n      <td>b'Russian forces sink Georgian ships '</td>\n      <td>b\"The commander of a Navy air reconnaissance s...</td>\n      <td>b\"92% of CNN readers: Russia's actions in Geor...</td>\n      <td>b'USA to send fleet into Black Sea to help Geo...</td>\n      <td>b\"US warns against Israeli plan to strike agai...</td>\n      <td>b\"In an intriguing cyberalliance, two Estonian...</td>\n      <td>b'The CNN Effect: Georgia Schools Russia in In...</td>\n      <td>b'Why Russias response to Georgia was right'</td>\n      <td>b'Elephants extinct by 2020?'</td>\n      <td>b'US humanitarian missions soon in Georgia - i...</td>\n      <td>b\"Georgia's DDOS came from US sources\"</td>\n      <td>b'Russian convoy heads into Georgia, violating...</td>\n      <td>b'Israeli defence minister: US against strike ...</td>\n      <td>b'Gorbachev: We Had No Choice'</td>\n      <td>b'Witness: Russian forces head towards Tbilisi...</td>\n      <td>b' Quarter of Russians blame U.S. for conflict...</td>\n      <td>b'Georgian president  says US military will ta...</td>\n      <td>b'2006: Nobel laureate Aleksander Solzhenitsyn...</td>\n    </tr>\n    <tr>\n      <th>4</th>\n      <td>2008-08-14</td>\n      <td>1</td>\n      <td>b'All the experts admit that we should legalis...</td>\n      <td>b'War in South Osetia - 89 pictures made by a ...</td>\n      <td>b'Swedish wrestler Ara Abrahamian throws away ...</td>\n      <td>b'Russia exaggerated the death toll in South O...</td>\n      <td>b'Missile That Killed 9 Inside Pakistan May Ha...</td>\n      <td>b\"Rushdie Condemns Random House's Refusal to P...</td>\n      <td>b'Poland and US agree to missle defense deal. ...</td>\n      <td>b'Will the Russians conquer Tblisi? Bet on it,...</td>\n      <td>b'Russia exaggerating South Ossetian death tol...</td>\n      <td>b' Musharraf expected to resign rather than fa...</td>\n      <td>b'Moscow Made Plans Months Ago to Invade Georgia'</td>\n      <td>b'Why Russias response to Georgia was right'</td>\n      <td>b'Nigeria has handed over the potentially oil-...</td>\n      <td>b'The US and Poland have agreed a preliminary ...</td>\n      <td>b'Russia apparently is sabotaging infrastructu...</td>\n      <td>b'Bank analyst forecast Georgian crisis 2 days...</td>\n      <td>b\"Georgia confict could set back Russia's US r...</td>\n      <td>b'War in the Caucasus is as much the product o...</td>\n      <td>b'\"Non-media\" photos of South Ossetia/Georgia ...</td>\n      <td>b'Georgian TV reporter shot by Russian sniper ...</td>\n      <td>b'Saudi Arabia: Mother moves to block child ma...</td>\n      <td>b'Taliban wages war on humanitarian aid workers'</td>\n      <td>b'Russia: World  \"can forget about\" Georgia\\'s...</td>\n      <td>b'Darfur rebels accuse Sudan of mounting major...</td>\n      <td>b'Philippines : Peace Advocate say Muslims nee...</td>\n    </tr>\n    <tr>\n      <th>...</th>\n      <td>...</td>\n      <td>...</td>\n      <td>...</td>\n      <td>...</td>\n      <td>...</td>\n      <td>...</td>\n      <td>...</td>\n      <td>...</td>\n      <td>...</td>\n      <td>...</td>\n      <td>...</td>\n      <td>...</td>\n      <td>...</td>\n      <td>...</td>\n      <td>...</td>\n      <td>...</td>\n      <td>...</td>\n      <td>...</td>\n      <td>...</td>\n      <td>...</td>\n      <td>...</td>\n      <td>...</td>\n      <td>...</td>\n      <td>...</td>\n      <td>...</td>\n      <td>...</td>\n      <td>...</td>\n    </tr>\n    <tr>\n      <th>1984</th>\n      <td>2016-06-27</td>\n      <td>0</td>\n      <td>Barclays and RBS shares suspended from trading...</td>\n      <td>Pope says Church should ask forgiveness from g...</td>\n      <td>Poland 'shocked' by xenophobic abuse of Poles ...</td>\n      <td>There will be no second referendum, cabinet ag...</td>\n      <td>Scotland welcome to join EU, Merkel ally says</td>\n      <td>Sterling dips below Friday's 31-year low amid ...</td>\n      <td>No negative news about South African President...</td>\n      <td>Surge in Hate Crimes in the U.K. Following U.K...</td>\n      <td>Weapons shipped into Jordan by the CIA and Sau...</td>\n      <td>Angela Merkel said the U.K. must file exit pap...</td>\n      <td>In a birth offering hope to a threatened speci...</td>\n      <td>Sky News Journalist Left Speechless As Leave M...</td>\n      <td>Giant panda in Macau gives birth to twins</td>\n      <td>Get out now: EU leader tells Britain it must i...</td>\n      <td>Sea turtle 'beaten and left for dead' on beach...</td>\n      <td>German lawyers to probe Erdogan over alleged w...</td>\n      <td>Boris Johnson says the UK will continue to \"in...</td>\n      <td>Richard Branson is calling on the UK governmen...</td>\n      <td>Turkey 'sorry for downing Russian jet'</td>\n      <td>Edward Snowden lawyer vows new push for pardon...</td>\n      <td>Brexit opinion poll reveals majority don't wan...</td>\n      <td>Conservative MP Leave Campaigner: \"The leave c...</td>\n      <td>Economists predict UK recession, further weake...</td>\n      <td>New EU 'superstate plan by France, Germany: Cr...</td>\n      <td>Pakistani clerics declare transgender marriage...</td>\n    </tr>\n    <tr>\n      <th>1985</th>\n      <td>2016-06-28</td>\n      <td>1</td>\n      <td>2,500 Scientists To Australia: If You Want To ...</td>\n      <td>The personal details of 112,000 French police ...</td>\n      <td>S&amp;amp;P cuts United Kingdom sovereign credit r...</td>\n      <td>Huge helium deposit found in Africa</td>\n      <td>CEO of the South African state broadcaster qui...</td>\n      <td>Brexit cost investors $2 trillion, the worst o...</td>\n      <td>Hong Kong democracy activists call for return ...</td>\n      <td>Brexit: Iceland president says UK can join 'tr...</td>\n      <td>UK's Osborne: 'Absolutely' going to have to cu...</td>\n      <td>'Do not let Scotland down now' : Scottish MEP ...</td>\n      <td>British pound could hit history-making dollar ...</td>\n      <td>Merkel vows to strengthen EU, tells UK no 'che...</td>\n      <td>\"Ryanair will not deploy new aircraft on route...</td>\n      <td>People, ever more greedy and stupid, destroy t...</td>\n      <td>Siemens freezes new UK wind power investment f...</td>\n      <td>US, Canada and Mexico pledge 50% of power from...</td>\n      <td>There is increasing evidence that Australia is...</td>\n      <td>Richard Branson, the founder of Virgin Group, ...</td>\n      <td>37,000-yr-old skull from Borneo reveals surpri...</td>\n      <td>Palestinians stone Western Wall worshipers; po...</td>\n      <td>Jean-Claude Juncker asks Farage: Why are you h...</td>\n      <td>\"Romanians for Remainians\" offering a new home...</td>\n      <td>Brexit: Gibraltar in talks with Scotland to st...</td>\n      <td>8 Suicide Bombers Strike Lebanon</td>\n      <td>Mexico's security forces routinely use 'sexual...</td>\n    </tr>\n    <tr>\n      <th>1986</th>\n      <td>2016-06-29</td>\n      <td>1</td>\n      <td>Explosion At Airport In Istanbul</td>\n      <td>Yemeni former president: Terrorism is the offs...</td>\n      <td>UK must accept freedom of movement to access E...</td>\n      <td>Devastated: scientists too late to captive bre...</td>\n      <td>British Labor Party leader Jeremy Corbyn loses...</td>\n      <td>A Muslim Shop in the UK Was Just Firebombed Wh...</td>\n      <td>Mexican Authorities Sexually Torture Women in ...</td>\n      <td>UK shares and pound continue to recover</td>\n      <td>Iceland historian Johannesson wins presidentia...</td>\n      <td>99-Million-Yr-Old Bird Wings Found Encased in ...</td>\n      <td>A chatbot programmed by a British teenager has...</td>\n      <td>The Philippine president-elect said Monday he ...</td>\n      <td>Former Belgian Prime Minister ridicules Nigel ...</td>\n      <td>Brexiteer Nigel Farage To EU: 'You're Not Laug...</td>\n      <td>Islamic State bombings in southern Yemen kill ...</td>\n      <td>Escape Tunnel, Dug by Hand, Is Found at Holoca...</td>\n      <td>The land under Beijing is sinking by as much a...</td>\n      <td>Car bomb and Anti-Islamic attack on Mosque in ...</td>\n      <td>Emaciated lions in Taiz Zoo are trapped in blo...</td>\n      <td>Rupert Murdoch describes Brexit as 'wonderful'...</td>\n      <td>More than 40 killed in Yemen suicide attacks</td>\n      <td>Google Found Disastrous Symantec and Norton Vu...</td>\n      <td>Extremist violence on the rise in Germany: Dom...</td>\n      <td>BBC News: Labour MPs pass Corbyn no-confidence...</td>\n      <td>Tiny New Zealand town with 'too many jobs' lau...</td>\n    </tr>\n    <tr>\n      <th>1987</th>\n      <td>2016-06-30</td>\n      <td>1</td>\n      <td>Jamaica proposes marijuana dispensers for tour...</td>\n      <td>Stephen Hawking says pollution and 'stupidity'...</td>\n      <td>Boris Johnson says he will not run for Tory pa...</td>\n      <td>Six gay men in Ivory Coast were abused and for...</td>\n      <td>Switzerland denies citizenship to Muslim immig...</td>\n      <td>Palestinian terrorist stabs israeli teen girl ...</td>\n      <td>Puerto Rico will default on $1 billion of debt...</td>\n      <td>Republic of Ireland fans to be awarded medal f...</td>\n      <td>Afghan suicide bomber 'kills up to 40' - BBC News</td>\n      <td>US airstrikes kill at least 250 ISIS fighters ...</td>\n      <td>Turkish Cop Who Took Down Istanbul Gunman Hail...</td>\n      <td>Cannabis compounds could treat Alzheimer's by ...</td>\n      <td>Japan's top court has approved blanket surveil...</td>\n      <td>CIA Gave Romania Millions to Host Secret Prisons</td>\n      <td>Groups urge U.N. to suspend Saudi Arabia from ...</td>\n      <td>Googles free wifi at Indian railway stations i...</td>\n      <td>Mounting evidence suggests 'hobbits' were wipe...</td>\n      <td>The men who carried out Tuesday's terror attac...</td>\n      <td>Calls to suspend Saudi Arabia from UN Human Ri...</td>\n      <td>More Than 100 Nobel Laureates Call Out Greenpe...</td>\n      <td>British pedophile sentenced to 85 years in US ...</td>\n      <td>US permitted 1,200 offshore fracks in Gulf of ...</td>\n      <td>We will be swimming in ridicule - French beach...</td>\n      <td>UEFA says no minutes of silence for Istanbul v...</td>\n      <td>Law Enforcement Sources: Gun Used in Paris Ter...</td>\n    </tr>\n    <tr>\n      <th>1988</th>\n      <td>2016-07-01</td>\n      <td>1</td>\n      <td>A 117-year-old woman in Mexico City finally re...</td>\n      <td>IMF chief backs Athens as permanent Olympic host</td>\n      <td>The president of France says if Brexit won, so...</td>\n      <td>British Man Who Must Give Police 24 Hours' Not...</td>\n      <td>100+ Nobel laureates urge Greenpeace to stop o...</td>\n      <td>Brazil: Huge spike in number of police killing...</td>\n      <td>Austria's highest court annuls presidential el...</td>\n      <td>Facebook wins privacy case, can track any Belg...</td>\n      <td>Switzerland denies Muslim girls citizenship af...</td>\n      <td>China kills millions of innocent meditators fo...</td>\n      <td>France Cracks Down on Factory Farms - A viral ...</td>\n      <td>Abbas PLO Faction Calls Killer of 13-Year-Old ...</td>\n      <td>Taiwanese warship accidentally fires missile t...</td>\n      <td>Iran celebrates American Human Rights Week, mo...</td>\n      <td>U.N. panel moves to curb bias against L.G.B.T....</td>\n      <td>The United States has placed Myanmar, Uzbekist...</td>\n      <td>S&amp;amp;P revises European Union credit rating t...</td>\n      <td>India gets $1 billion loan from World Bank for...</td>\n      <td>U.S. sailors detained by Iran spoke too much u...</td>\n      <td>Mass fish kill in Vietnam solved as Taiwan ste...</td>\n      <td>Philippines president Rodrigo Duterte urges pe...</td>\n      <td>Spain arrests three Pakistanis accused of prom...</td>\n      <td>Venezuela, where anger over food shortages is ...</td>\n      <td>A Hindu temple worker has been killed by three...</td>\n      <td>Ozone layer hole seems to be healing - US &amp;amp...</td>\n    </tr>\n  </tbody>\n</table>\n<p>1989 rows × 27 columns</p>\n</div>"
          },
          "metadata": {}
        }
      ],
      "execution_count": 12,
      "metadata": {
        "jupyter": {
          "source_hidden": false,
          "outputs_hidden": false
        },
        "nteract": {
          "transient": {
            "deleting": false
          }
        }
      }
    },
    {
      "cell_type": "markdown",
      "source": [
        "### Clean up the dataframe with missing/\"NA\" values and do a quick exploratory check\r\n",
        "note how the ``display()`` function can be helpful here, explore visual distribution of ``Label`` column by clicking on ``unique`` value and then selecting chart type"
      ],
      "metadata": {
        "nteract": {
          "transient": {
            "deleting": false
          }
        }
      }
    },
    {
      "cell_type": "code",
      "source": [
        "df_stocknews.dropna(inplace= True)\r\n",
        "display(df_stocknews, summary=True)"
      ],
      "outputs": [
        {
          "output_type": "display_data",
          "data": {
            "application/vnd.livy.statement-meta+json": {
              "spark_pool": "smallspark01",
              "session_id": 45,
              "statement_id": 13,
              "state": "finished",
              "livy_statement_state": "available",
              "queued_time": "2022-02-16T14:35:19.8823199Z",
              "session_start_time": null,
              "execution_start_time": "2022-02-16T14:35:19.9993514Z",
              "execution_finish_time": "2022-02-16T14:35:53.1879771Z"
            },
            "text/plain": "StatementMeta(smallspark01, 45, 13, Finished, Available)"
          },
          "metadata": {}
        },
        {
          "output_type": "display_data",
          "data": {
            "application/vnd.synapse.widget-view+json": {
              "widget_id": "fa68a869-0bcc-4a1c-aa1e-c1e1a604e616",
              "widget_type": "Synapse.DataFrame"
            },
            "text/plain": "SynapseWidget(Synapse.DataFrame, fa68a869-0bcc-4a1c-aa1e-c1e1a604e616)"
          },
          "metadata": {}
        }
      ],
      "execution_count": 13,
      "metadata": {
        "jupyter": {
          "source_hidden": false,
          "outputs_hidden": false
        },
        "nteract": {
          "transient": {
            "deleting": false
          }
        },
        "collapsed": false
      }
    },
    {
      "cell_type": "markdown",
      "source": [
        "### Split into training and testing dataset(s)"
      ],
      "metadata": {
        "nteract": {
          "transient": {
            "deleting": false
          }
        }
      }
    },
    {
      "cell_type": "code",
      "source": [
        "df_train = df_stocknews[df_stocknews['Date'] < '20150101']\r\n",
        "df_test = df_stocknews[df_stocknews['Date'] > '20141231']"
      ],
      "outputs": [
        {
          "output_type": "display_data",
          "data": {
            "application/vnd.livy.statement-meta+json": {
              "spark_pool": "smallspark01",
              "session_id": 45,
              "statement_id": 14,
              "state": "finished",
              "livy_statement_state": "available",
              "queued_time": "2022-02-16T14:35:22.0772571Z",
              "session_start_time": null,
              "execution_start_time": "2022-02-16T14:35:53.3179124Z",
              "execution_finish_time": "2022-02-16T14:35:53.4675168Z"
            },
            "text/plain": "StatementMeta(smallspark01, 45, 14, Finished, Available)"
          },
          "metadata": {}
        }
      ],
      "execution_count": 14,
      "metadata": {
        "jupyter": {
          "source_hidden": false,
          "outputs_hidden": false
        },
        "nteract": {
          "transient": {
            "deleting": false
          }
        }
      }
    },
    {
      "cell_type": "markdown",
      "source": [
        "### Feature engineering: \r\n",
        "- clean the news headlines, remove special charecters\r\n",
        "- combine news headlines into one block\r\n",
        "- perform word lemmatization\r\n",
        "- vectorize the data"
      ],
      "metadata": {
        "nteract": {
          "transient": {
            "deleting": false
          }
        }
      }
    },
    {
      "cell_type": "code",
      "source": [
        "# function for cleaning the data\r\n",
        "def clean_data(dataset):\r\n",
        "    data = dataset.iloc[:,2:27]\r\n",
        "    data.replace(\"[^a-zA-Z]\", \" \", regex=True, inplace=True)\r\n",
        "    return data\r\n",
        "\r\n",
        "# function for combining the headlines of all the columns into single column\r\n",
        "def combine_data(data):\r\n",
        "    headlines = []\r\n",
        "    for i in range(len(data.index)):\r\n",
        "        headlines.append(' '.join(str(x) for x in data.iloc[i, :]))\r\n",
        "    return headlines\r\n",
        "\r\n",
        "# function to perform lemmatization of the word\r\n",
        "def lemmatize_data(data, lemmatizer):\r\n",
        "    cleaned_dataset = []\r\n",
        "    #add stopwords from storage\r\n",
        "    # sc.addFile(f\"abfss://{file_system_name}@{data_lake_account_name}.dfs.core.windows.net/synapse/workspaces/synapse-ws-hlthml/nltk_data/\",True)\r\n",
        "    #append path to NLTK\r\n",
        "    # nltk.data.path.append(SparkFiles.getRootDirectory() + '/nltk_data')\r\n",
        "    for i in range(len(data)):\r\n",
        "        clean_text = data[i].lower()\r\n",
        "        clean_text = clean_text.split()\r\n",
        "        clean_text = [lemmatizer.lemmatize(word) for word in clean_text if word not in stopwords.words('english')]\r\n",
        "        cleaned_dataset.append(' '.join(clean_text))\r\n",
        "    return cleaned_dataset\r\n",
        "\r\n",
        "# function to vectorize the data\r\n",
        "def vectorize_data(data, cv):\r\n",
        "    vectorized_dataset = cv.fit_transform(data)\r\n",
        "    return vectorized_dataset"
      ],
      "outputs": [
        {
          "output_type": "display_data",
          "data": {
            "application/vnd.livy.statement-meta+json": {
              "spark_pool": "smallspark01",
              "session_id": 45,
              "statement_id": 15,
              "state": "finished",
              "livy_statement_state": "available",
              "queued_time": "2022-02-16T14:35:23.6353626Z",
              "session_start_time": null,
              "execution_start_time": "2022-02-16T14:35:53.584835Z",
              "execution_finish_time": "2022-02-16T14:35:53.7346212Z"
            },
            "text/plain": "StatementMeta(smallspark01, 45, 15, Finished, Available)"
          },
          "metadata": {}
        }
      ],
      "execution_count": 15,
      "metadata": {
        "jupyter": {
          "source_hidden": false,
          "outputs_hidden": false
        },
        "nteract": {
          "transient": {
            "deleting": false
          }
        }
      }
    },
    {
      "cell_type": "markdown",
      "source": [
        "Apply the feature engineering functions on our train and test dataset(s)"
      ],
      "metadata": {
        "nteract": {
          "transient": {
            "deleting": false
          }
        }
      }
    },
    {
      "cell_type": "code",
      "source": [
        "# clean train and test data\r\n",
        "clean_train_data = clean_data(df_train)\r\n",
        "clean_test_data = clean_data(df_test)\r\n",
        "\r\n",
        "# combine the headlines in single column\r\n",
        "comb_train_data = combine_data(clean_train_data)\r\n",
        "comb_test_data = combine_data(clean_test_data)\r\n",
        "\r\n",
        "# lemmatize data\r\n",
        "lemmatizer = WordNetLemmatizer()\r\n",
        "train_data = lemmatize_data(comb_train_data, lemmatizer)\r\n",
        "test_data = lemmatize_data(comb_test_data, lemmatizer)\r\n",
        "\r\n",
        "# vectorize data\r\n",
        "cv = CountVectorizer(ngram_range=(2,2))\r\n",
        "vec_train_data = vectorize_data(train_data, cv)\r\n",
        "vec_test_data = cv.transform(test_data)"
      ],
      "outputs": [
        {
          "output_type": "display_data",
          "data": {
            "application/vnd.livy.statement-meta+json": {
              "spark_pool": "smallspark01",
              "session_id": 45,
              "statement_id": 16,
              "state": "finished",
              "livy_statement_state": "available",
              "queued_time": "2022-02-16T14:35:25.4669756Z",
              "session_start_time": null,
              "execution_start_time": "2022-02-16T14:35:53.844984Z",
              "execution_finish_time": "2022-02-16T14:38:26.3621166Z"
            },
            "text/plain": "StatementMeta(smallspark01, 45, 16, Finished, Available)"
          },
          "metadata": {}
        }
      ],
      "execution_count": 16,
      "metadata": {
        "jupyter": {
          "source_hidden": false,
          "outputs_hidden": false
        },
        "nteract": {
          "transient": {
            "deleting": false
          }
        }
      }
    },
    {
      "cell_type": "markdown",
      "source": [
        "### Train a random forest classifier"
      ],
      "metadata": {
        "nteract": {
          "transient": {
            "deleting": false
          }
        }
      }
    },
    {
      "cell_type": "code",
      "source": [
        "# create classifier\r\n",
        "rf_clf = RandomForestClassifier(n_estimators=200, criterion='entropy')\r\n",
        "rf_clf.fit(vec_train_data, df_train['Label'])"
      ],
      "outputs": [
        {
          "output_type": "display_data",
          "data": {
            "application/vnd.livy.statement-meta+json": {
              "spark_pool": "smallspark01",
              "session_id": 45,
              "statement_id": 17,
              "state": "finished",
              "livy_statement_state": "available",
              "queued_time": "2022-02-16T14:35:27.2071859Z",
              "session_start_time": null,
              "execution_start_time": "2022-02-16T14:38:26.5109918Z",
              "execution_finish_time": "2022-02-16T14:38:40.7969196Z"
            },
            "text/plain": "StatementMeta(smallspark01, 45, 17, Finished, Available)"
          },
          "metadata": {}
        },
        {
          "output_type": "display_data",
          "data": {
            "text/plain": "RandomForestClassifier(criterion='entropy', n_estimators=200)"
          },
          "metadata": {}
        }
      ],
      "execution_count": 17,
      "metadata": {
        "jupyter": {
          "source_hidden": false,
          "outputs_hidden": false
        },
        "nteract": {
          "transient": {
            "deleting": false
          }
        }
      }
    },
    {
      "cell_type": "markdown",
      "source": [
        "### Check prediction metrices"
      ],
      "metadata": {
        "nteract": {
          "transient": {
            "deleting": false
          }
        }
      }
    },
    {
      "cell_type": "code",
      "source": [
        "from sklearn.metrics import classification_report, accuracy_score, confusion_matrix\r\n",
        "\r\n",
        "# run precictions on test data\r\n",
        "y_pred = rf_clf.predict(vec_test_data)\r\n",
        "\r\n",
        "print(classification_report(df_test['Label'], y_pred))\r\n",
        "\r\n"
      ],
      "outputs": [
        {
          "output_type": "display_data",
          "data": {
            "application/vnd.livy.statement-meta+json": {
              "spark_pool": "smallspark01",
              "session_id": 45,
              "statement_id": 18,
              "state": "finished",
              "livy_statement_state": "available",
              "queued_time": "2022-02-16T14:35:29.234391Z",
              "session_start_time": null,
              "execution_start_time": "2022-02-16T14:38:40.913595Z",
              "execution_finish_time": "2022-02-16T14:38:41.4342825Z"
            },
            "text/plain": "StatementMeta(smallspark01, 45, 18, Finished, Available)"
          },
          "metadata": {}
        },
        {
          "output_type": "stream",
          "name": "stdout",
          "text": [
            "              precision    recall  f1-score   support\n\n           0       1.00      0.70      0.82       186\n           1       0.77      1.00      0.87       192\n\n    accuracy                           0.85       378\n   macro avg       0.89      0.85      0.85       378\nweighted avg       0.89      0.85      0.85       378"
          ]
        }
      ],
      "execution_count": 18,
      "metadata": {
        "jupyter": {
          "source_hidden": false,
          "outputs_hidden": false
        },
        "nteract": {
          "transient": {
            "deleting": false
          }
        }
      }
    }
  ],
  "metadata": {
    "kernelspec": {
      "name": "synapse_pyspark",
      "language": "Python",
      "display_name": "Synapse PySpark"
    },
    "language_info": {
      "name": "python"
    },
    "kernel_info": {
      "name": "synapse_pyspark"
    },
    "description": null,
    "save_output": true,
    "synapse_widget": {
      "version": "0.1",
      "state": {
        "fa68a869-0bcc-4a1c-aa1e-c1e1a604e616": {
          "type": "Synapse.DataFrame",
          "sync_state": {
            "table": {
              "schema": [
                {
                  "key": "name",
                  "name": "name",
                  "type": "string"
                },
                {
                  "key": "type",
                  "name": "type",
                  "type": "string"
                },
                {
                  "key": "unique",
                  "name": "unique",
                  "type": "int"
                },
                {
                  "key": "missing",
                  "name": "missing",
                  "type": "int"
                }
              ],
              "rows": [
                {
                  "name": "Date",
                  "type": "string",
                  "unique": 1986,
                  "missing": 0
                },
                {
                  "name": "Label",
                  "type": "bigint",
                  "unique": 2,
                  "missing": 0
                },
                {
                  "name": "Top1",
                  "type": "string",
                  "unique": 1986,
                  "missing": 0
                },
                {
                  "name": "Top2",
                  "type": "string",
                  "unique": 1986,
                  "missing": 0
                },
                {
                  "name": "Top3",
                  "type": "string",
                  "unique": 1985,
                  "missing": 0
                },
                {
                  "name": "Top4",
                  "type": "string",
                  "unique": 1986,
                  "missing": 0
                },
                {
                  "name": "Top5",
                  "type": "string",
                  "unique": 1986,
                  "missing": 0
                },
                {
                  "name": "Top6",
                  "type": "string",
                  "unique": 1986,
                  "missing": 0
                },
                {
                  "name": "Top7",
                  "type": "string",
                  "unique": 1986,
                  "missing": 0
                },
                {
                  "name": "Top8",
                  "type": "string",
                  "unique": 1986,
                  "missing": 0
                },
                {
                  "name": "Top9",
                  "type": "string",
                  "unique": 1986,
                  "missing": 0
                },
                {
                  "name": "Top10",
                  "type": "string",
                  "unique": 1986,
                  "missing": 0
                },
                {
                  "name": "Top11",
                  "type": "string",
                  "unique": 1986,
                  "missing": 0
                },
                {
                  "name": "Top12",
                  "type": "string",
                  "unique": 1986,
                  "missing": 0
                },
                {
                  "name": "Top13",
                  "type": "string",
                  "unique": 1986,
                  "missing": 0
                },
                {
                  "name": "Top14",
                  "type": "string",
                  "unique": 1986,
                  "missing": 0
                },
                {
                  "name": "Top15",
                  "type": "string",
                  "unique": 1986,
                  "missing": 0
                },
                {
                  "name": "Top16",
                  "type": "string",
                  "unique": 1986,
                  "missing": 0
                },
                {
                  "name": "Top17",
                  "type": "string",
                  "unique": 1986,
                  "missing": 0
                },
                {
                  "name": "Top18",
                  "type": "string",
                  "unique": 1986,
                  "missing": 0
                },
                {
                  "name": "Top19",
                  "type": "string",
                  "unique": 1986,
                  "missing": 0
                },
                {
                  "name": "Top20",
                  "type": "string",
                  "unique": 1986,
                  "missing": 0
                },
                {
                  "name": "Top21",
                  "type": "string",
                  "unique": 1986,
                  "missing": 0
                },
                {
                  "name": "Top22",
                  "type": "string",
                  "unique": 1986,
                  "missing": 0
                },
                {
                  "name": "Top23",
                  "type": "string",
                  "unique": 1986,
                  "missing": 0
                },
                {
                  "name": "Top24",
                  "type": "string",
                  "unique": 1986,
                  "missing": 0
                },
                {
                  "name": "Top25",
                  "type": "string",
                  "unique": 1986,
                  "missing": 0
                }
              ]
            },
            "isSummary": true,
            "language": "scala"
          },
          "persist_state": {
            "view": {
              "type": "summary",
              "chartType": "column"
            }
          }
        }
      }
    }
  },
  "nbformat": 4,
  "nbformat_minor": 2
}